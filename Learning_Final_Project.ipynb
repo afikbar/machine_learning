{
  "nbformat": 4,
  "nbformat_minor": 0,
  "metadata": {
    "colab": {
      "name": "Learning Final Project.ipynb",
      "version": "0.3.2",
      "provenance": [],
      "collapsed_sections": [],
      "include_colab_link": true
    },
    "kernelspec": {
      "name": "python3",
      "display_name": "Python 3"
    }
  },
  "cells": [
    {
      "cell_type": "markdown",
      "metadata": {
        "id": "view-in-github",
        "colab_type": "text"
      },
      "source": [
        "<a href=\"https://colab.research.google.com/github/afikbar/machine_learning/blob/master/Learning_Final_Project.ipynb\" target=\"_parent\"><img src=\"https://colab.research.google.com/assets/colab-badge.svg\" alt=\"Open In Colab\"/></a>"
      ]
    },
    {
      "cell_type": "code",
      "metadata": {
        "id": "CclDYNjA2chF",
        "colab_type": "code",
        "colab": {}
      },
      "source": [
        ""
      ],
      "execution_count": 0,
      "outputs": []
    },
    {
      "cell_type": "code",
      "metadata": {
        "id": "oRqnIWgS2igB",
        "colab_type": "code",
        "outputId": "8ad27e99-e6db-4056-b4fd-b874258494a6",
        "colab": {
          "base_uri": "https://localhost:8080/",
          "height": 122
        }
      },
      "source": [
        "from google.colab import drive\n",
        "drive.mount('/content/drive')"
      ],
      "execution_count": 1,
      "outputs": [
        {
          "output_type": "stream",
          "text": [
            "Go to this URL in a browser: https://accounts.google.com/o/oauth2/auth?client_id=947318989803-6bn6qk8qdgf4n4g3pfee6491hc0brc4i.apps.googleusercontent.com&redirect_uri=urn%3Aietf%3Awg%3Aoauth%3A2.0%3Aoob&scope=email%20https%3A%2F%2Fwww.googleapis.com%2Fauth%2Fdocs.test%20https%3A%2F%2Fwww.googleapis.com%2Fauth%2Fdrive%20https%3A%2F%2Fwww.googleapis.com%2Fauth%2Fdrive.photos.readonly%20https%3A%2F%2Fwww.googleapis.com%2Fauth%2Fpeopleapi.readonly&response_type=code\n",
            "\n",
            "Enter your authorization code:\n",
            "··········\n",
            "Mounted at /content/drive\n"
          ],
          "name": "stdout"
        }
      ]
    },
    {
      "cell_type": "code",
      "metadata": {
        "id": "TPeJJjHy21FW",
        "colab_type": "code",
        "colab": {}
      },
      "source": [
        "import numpy as np\n",
        "import pandas as pd\n",
        "import glob\n",
        "import scipy.misc\n",
        "import matplotlib\n",
        "%matplotlib inline\n",
        "import matplotlib.pyplot as plt\n",
        "import imageio\n",
        "import skimage\n",
        "from sklearn.naive_bayes import MultinomialNB\n",
        "import os"
      ],
      "execution_count": 0,
      "outputs": []
    },
    {
      "cell_type": "code",
      "metadata": {
        "id": "z36UD2wC25Jl",
        "colab_type": "code",
        "colab": {}
      },
      "source": [
        "path = \"/content/drive/My Drive/Technion/Semester 6/Machine Learning/Final Project\"\n",
        "\n",
        "data = pd.read_csv(path + \"/MovieGenre.csv\", encoding=\"ISO-8859-1\")\n",
        "data = data.dropna(subset=['Genre', 'Poster'])"
      ],
      "execution_count": 0,
      "outputs": []
    },
    {
      "cell_type": "code",
      "metadata": {
        "id": "qb4jEeS-5i_j",
        "colab_type": "code",
        "outputId": "cd162574-5860-4622-d69a-9344f83790b6",
        "colab": {
          "base_uri": "https://localhost:8080/",
          "height": 34
        }
      },
      "source": [
        "idx, row = next(data.iterrows())\n",
        "row.Genre"
      ],
      "execution_count": 4,
      "outputs": [
        {
          "output_type": "execute_result",
          "data": {
            "text/plain": [
              "'Animation|Adventure|Comedy'"
            ]
          },
          "metadata": {
            "tags": []
          },
          "execution_count": 4
        }
      ]
    },
    {
      "cell_type": "code",
      "metadata": {
        "id": "kyRNEh6N3S8x",
        "colab_type": "code",
        "colab": {}
      },
      "source": [
        "def prepare_data(data, size=(268, 182)):\n",
        "    print(\"Generation dataset...\")\n",
        "    dataset = []\n",
        "    y = []\n",
        "    ids = []\n",
        "    label_dict = {\"word2idx\": {}, \"idx2word\": []}\n",
        "    idx = 0\n",
        "    genre_per_movie = data[\"Genre\"].apply(lambda x: str(x).split(\"|\"))\n",
        "    for l in [g for d in genre_per_movie for g in d]:\n",
        "        if l in label_dict[\"idx2word\"]:\n",
        "            pass\n",
        "        else:\n",
        "            label_dict[\"idx2word\"].append(l)\n",
        "            label_dict[\"word2idx\"][l] = idx\n",
        "            idx += 1\n",
        "    n_classes = len(label_dict[\"idx2word\"])\n",
        "    print(\"identified {} classes\".format(n_classes))\n",
        "    for idx, row in data.iterrows():\n",
        "      splitted_genres = row.Genre.split('|')\n",
        "      image_path = path + \"/posters/{}.jpg\".format(row.imdbId)\n",
        "      if os.path.exists(image_path):\n",
        "        try:\n",
        "          img = imageio.imread(image_path)\n",
        "          if img.shape != (268, 182, 3):\n",
        "              continue\n",
        "          img = img.reshape(146328)\n",
        "          l = np.sum([np.eye(n_classes, dtype=\"uint8\")[label_dict[\"word2idx\"][s]] \n",
        "                                                      for s in splitted_genres], axis=0)\n",
        "          y.append(l)\n",
        "          dataset.append(img)\n",
        "          ids.append(row.imdbId)\n",
        "        except FileNotFoundError as e:\n",
        "          pass\n",
        "        except Exception as e:\n",
        "          print(\"Error in: \",row.imdbId, \"\\n\" , e)\n",
        "\n",
        "    print(\"DONE\")\n",
        "    return dataset, np.array(y), label_dict, ids"
      ],
      "execution_count": 0,
      "outputs": []
    },
    {
      "cell_type": "code",
      "metadata": {
        "id": "vZTQLpdU6zNa",
        "colab_type": "code",
        "outputId": "542131a4-a935-4b60-dc0b-fbe44ccd9011",
        "colab": {
          "base_uri": "https://localhost:8080/",
          "height": 17
        }
      },
      "source": [
        "dataset, y, label_dict, ids =  prepare_data(data)"
      ],
      "execution_count": 0,
      "outputs": [
        {
          "output_type": "stream",
          "text": [
            "Generation dataset...\n",
            "identified 28 classes\n",
            "Error in:  112541 \n",
            " 'NoneType' object has no attribute 'ReadAsArray'\n",
            "Error in:  113044 \n",
            " 'NoneType' object has no attribute 'ReadAsArray'\n"
          ],
          "name": "stdout"
        }
      ]
    },
    {
      "cell_type": "code",
      "metadata": {
        "id": "ZMi5S36N_1gr",
        "colab_type": "code",
        "colab": {}
      },
      "source": [
        "NB = MultinomialNB()\n",
        "NB.fit(dataset[:10000], y[:10000,6])"
      ],
      "execution_count": 0,
      "outputs": []
    }
  ]
}